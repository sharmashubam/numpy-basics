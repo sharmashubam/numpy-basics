{
 "cells": [
  {
   "cell_type": "markdown",
   "id": "25061ebe",
   "metadata": {},
   "source": [
    "### Create"
   ]
  },
  {
   "cell_type": "code",
   "execution_count": 2,
   "id": "61c3faab",
   "metadata": {},
   "outputs": [],
   "source": [
    "import numpy as np"
   ]
  },
  {
   "cell_type": "code",
   "execution_count": 3,
   "id": "94c9104a",
   "metadata": {},
   "outputs": [
    {
     "data": {
      "text/plain": [
       "array([[[0.20890796, 0.3252132 , 0.08461507, 0.00393821],\n",
       "        [0.04557201, 0.28734986, 0.21669746, 0.87997069],\n",
       "        [0.75704148, 0.59679989, 0.58898195, 0.45408389]],\n",
       "\n",
       "       [[0.66156625, 0.56582843, 0.80550399, 0.627764  ],\n",
       "        [0.82499385, 0.76719222, 0.32453754, 0.24028649],\n",
       "        [0.15328693, 0.00355823, 0.22834881, 0.67083837]]])"
      ]
     },
     "execution_count": 3,
     "metadata": {},
     "output_type": "execute_result"
    }
   ],
   "source": [
    "data= np.random.rand(2,3,4)\n",
    "print(data)"
   ]
  },
  {
   "cell_type": "code",
   "execution_count": 5,
   "id": "3739f1e9",
   "metadata": {},
   "outputs": [
    {
     "name": "stdout",
     "output_type": "stream",
     "text": [
      "[[[0. 0.]\n",
      "  [0. 0.]]\n",
      "\n",
      " [[0. 0.]\n",
      "  [0. 0.]]]\n"
     ]
    }
   ],
   "source": [
    "zeros= np.zeros((2,2,2))\n",
    "print(zeros)"
   ]
  },
  {
   "cell_type": "code",
   "execution_count": 7,
   "id": "da988257",
   "metadata": {},
   "outputs": [
    {
     "name": "stdout",
     "output_type": "stream",
     "text": [
      "[[[7 7]\n",
      "  [7 7]]\n",
      "\n",
      " [[7 7]\n",
      "  [7 7]]]\n"
     ]
    }
   ],
   "source": [
    "full= np.full((2,2,2),7)\n",
    "print(full)"
   ]
  },
  {
   "cell_type": "code",
   "execution_count": 9,
   "id": "f5cb41b1",
   "metadata": {},
   "outputs": [
    {
     "name": "stdout",
     "output_type": "stream",
     "text": [
      "[[[1. 1.]\n",
      "  [1. 1.]]\n",
      "\n",
      " [[1. 1.]\n",
      "  [1. 1.]]]\n"
     ]
    }
   ],
   "source": [
    "ones= np.ones((2,2,2))\n",
    "print(ones)"
   ]
  },
  {
   "cell_type": "code",
   "execution_count": 14,
   "id": "36b2526e",
   "metadata": {},
   "outputs": [
    {
     "name": "stdout",
     "output_type": "stream",
     "text": [
      "[ 3  2  6 87 90]\n"
     ]
    },
    {
     "data": {
      "text/plain": [
       "numpy.ndarray"
      ]
     },
     "execution_count": 14,
     "metadata": {},
     "output_type": "execute_result"
    }
   ],
   "source": [
    "arr= np.array([3,2,6,87,90])\n",
    "print(arr)\n",
    "type(arr)"
   ]
  },
  {
   "cell_type": "markdown",
   "id": "75066d61",
   "metadata": {},
   "source": [
    "### Read\n"
   ]
  },
  {
   "cell_type": "code",
   "execution_count": 16,
   "id": "5794a04b",
   "metadata": {},
   "outputs": [],
   "source": [
    "shape= data.shape\n",
    "size= data.size\n",
    "types= data.dtype"
   ]
  },
  {
   "cell_type": "code",
   "execution_count": 17,
   "id": "a0c583c9",
   "metadata": {},
   "outputs": [
    {
     "data": {
      "text/plain": [
       "dtype('float64')"
      ]
     },
     "execution_count": 17,
     "metadata": {},
     "output_type": "execute_result"
    }
   ],
   "source": [
    "types"
   ]
  },
  {
   "cell_type": "code",
   "execution_count": 31,
   "id": "a0ccaf93",
   "metadata": {},
   "outputs": [],
   "source": [
    "arr= data[0]\n",
    "# slicer --> gives element from 0-2 excluding 2th index element\n",
    "slicer= data[0][0:2]\n",
    "# grabing the last element\n",
    "reverse= data[-1]\n",
    "# grabing the single leval element\n",
    "singleLevel= data[0][0][0] \n"
   ]
  },
  {
   "cell_type": "code",
   "execution_count": 27,
   "id": "6950030a",
   "metadata": {},
   "outputs": [
    {
     "data": {
      "text/plain": [
       "array([[0.20890796, 0.3252132 , 0.08461507, 0.00393821],\n",
       "       [0.04557201, 0.28734986, 0.21669746, 0.87997069]])"
      ]
     },
     "execution_count": 27,
     "metadata": {},
     "output_type": "execute_result"
    }
   ],
   "source": [
    "slicer"
   ]
  },
  {
   "cell_type": "code",
   "execution_count": 29,
   "id": "66b3b760",
   "metadata": {},
   "outputs": [
    {
     "data": {
      "text/plain": [
       "array([[0.66156625, 0.56582843, 0.80550399, 0.627764  ],\n",
       "       [0.82499385, 0.76719222, 0.32453754, 0.24028649],\n",
       "       [0.15328693, 0.00355823, 0.22834881, 0.67083837]])"
      ]
     },
     "execution_count": 29,
     "metadata": {},
     "output_type": "execute_result"
    }
   ],
   "source": [
    "reverse"
   ]
  },
  {
   "cell_type": "code",
   "execution_count": 33,
   "id": "7fe9dc1a",
   "metadata": {},
   "outputs": [
    {
     "data": {
      "text/plain": [
       "0.208907964292822"
      ]
     },
     "execution_count": 33,
     "metadata": {},
     "output_type": "execute_result"
    }
   ],
   "source": [
    "singleLevel"
   ]
  },
  {
   "cell_type": "markdown",
   "id": "c26a81e6",
   "metadata": {},
   "source": [
    "### Update"
   ]
  },
  {
   "cell_type": "code",
   "execution_count": 40,
   "id": "2ce83f50",
   "metadata": {},
   "outputs": [
    {
     "name": "stdout",
     "output_type": "stream",
     "text": [
      "\n"
     ]
    }
   ],
   "source": [
    "list1= np.random.rand(10)\n",
    "list2= np.random.rand(10)"
   ]
  },
  {
   "cell_type": "code",
   "execution_count": 45,
   "id": "8468b1c2",
   "metadata": {},
   "outputs": [],
   "source": [
    "# Basic Maths\n",
    "add= np.add(list1,list2)\n",
    "subtract= np.subtract(list1,list2)\n",
    "mul= np.multiply(list1,list2)\n",
    "divide= np.divide(list1,list2)\n",
    "# dot-->gives the dot product\n",
    "\n",
    "dot = np.dot(list1,list2)\n"
   ]
  },
  {
   "cell_type": "code",
   "execution_count": 46,
   "id": "e3d4eebb",
   "metadata": {},
   "outputs": [
    {
     "data": {
      "text/plain": [
       "array([0.63148552, 0.49190658, 1.53090969, 0.72275239, 0.99357736,\n",
       "       0.3330011 , 1.01456348, 1.09567981, 1.09514241, 1.16495472])"
      ]
     },
     "execution_count": 46,
     "metadata": {},
     "output_type": "execute_result"
    }
   ],
   "source": [
    "add"
   ]
  },
  {
   "cell_type": "code",
   "execution_count": 47,
   "id": "7b84b6cd",
   "metadata": {},
   "outputs": [
    {
     "data": {
      "text/plain": [
       "1.820098233341056"
      ]
     },
     "execution_count": 47,
     "metadata": {},
     "output_type": "execute_result"
    }
   ],
   "source": [
    "dot"
   ]
  },
  {
   "cell_type": "code",
   "execution_count": 53,
   "id": "c57907c8",
   "metadata": {},
   "outputs": [],
   "source": [
    "# statistical functions\n",
    "# S-A-P-L-E-M-M\n",
    "srt= np.sqrt(25)  \n",
    "absolute= np.abs([-12,-123])\n",
    "power= np.power(2,5)\n",
    "log= np.log(25)\n",
    "exp= np.exp([2,4])\n",
    "maxs= np.max(list1)\n",
    "mins= np.min(list1)\n"
   ]
  },
  {
   "cell_type": "code",
   "execution_count": 56,
   "id": "ee329e68",
   "metadata": {},
   "outputs": [
    {
     "data": {
      "text/plain": [
       "0.003989391134087472"
      ]
     },
     "execution_count": 56,
     "metadata": {},
     "output_type": "execute_result"
    }
   ],
   "source": [
    "mins"
   ]
  },
  {
   "cell_type": "code",
   "execution_count": 57,
   "id": "1d356fc0",
   "metadata": {},
   "outputs": [
    {
     "data": {
      "text/plain": [
       "array([[[7.00000000e+02, 3.25213200e-01, 8.46150664e-02, 3.93821029e-03],\n",
       "        [4.55720083e-02, 2.87349860e-01, 2.16697463e-01, 8.79970692e-01],\n",
       "        [7.57041477e-01, 5.96799888e-01, 5.88981949e-01, 4.54083887e-01]],\n",
       "\n",
       "       [[6.61566247e-01, 5.65828434e-01, 8.05503994e-01, 6.27763998e-01],\n",
       "        [8.24993849e-01, 7.67192218e-01, 3.24537535e-01, 2.40286494e-01],\n",
       "        [1.53286935e-01, 3.55823274e-03, 2.28348809e-01, 6.70838369e-01]]])"
      ]
     },
     "execution_count": 57,
     "metadata": {},
     "output_type": "execute_result"
    }
   ],
   "source": [
    "data[0][0][0]= 700\n",
    "data"
   ]
  },
  {
   "cell_type": "code",
   "execution_count": 58,
   "id": "8b3d0b57",
   "metadata": {},
   "outputs": [
    {
     "data": {
      "text/plain": [
       "array([[[3.93821029e-03, 8.46150664e-02, 3.25213200e-01, 7.00000000e+02],\n",
       "        [4.55720083e-02, 2.16697463e-01, 2.87349860e-01, 8.79970692e-01],\n",
       "        [4.54083887e-01, 5.88981949e-01, 5.96799888e-01, 7.57041477e-01]],\n",
       "\n",
       "       [[5.65828434e-01, 6.27763998e-01, 6.61566247e-01, 8.05503994e-01],\n",
       "        [2.40286494e-01, 3.24537535e-01, 7.67192218e-01, 8.24993849e-01],\n",
       "        [3.55823274e-03, 1.53286935e-01, 2.28348809e-01, 6.70838369e-01]]])"
      ]
     },
     "execution_count": 58,
     "metadata": {},
     "output_type": "execute_result"
    }
   ],
   "source": [
    "data.sort()\n",
    "data"
   ]
  },
  {
   "cell_type": "code",
   "execution_count": 59,
   "id": "4ecef8a2",
   "metadata": {},
   "outputs": [
    {
     "name": "stdout",
     "output_type": "stream",
     "text": [
      "(2, 3, 4)\n"
     ]
    }
   ],
   "source": [
    "# reshaping the data\n",
    "print(data.shape)"
   ]
  },
  {
   "cell_type": "code",
   "execution_count": 64,
   "id": "2edd63dd",
   "metadata": {
    "scrolled": true
   },
   "outputs": [
    {
     "name": "stdout",
     "output_type": "stream",
     "text": [
      "(2, 2, 6)\n",
      "[[[3.93821029e-03 8.46150664e-02 3.25213200e-01 7.00000000e+02\n",
      "   4.55720083e-02 2.16697463e-01]\n",
      "  [2.87349860e-01 8.79970692e-01 4.54083887e-01 5.88981949e-01\n",
      "   5.96799888e-01 7.57041477e-01]]\n",
      "\n",
      " [[5.65828434e-01 6.27763998e-01 6.61566247e-01 8.05503994e-01\n",
      "   2.40286494e-01 3.24537535e-01]\n",
      "  [7.67192218e-01 8.24993849e-01 3.55823274e-03 1.53286935e-01\n",
      "   2.28348809e-01 6.70838369e-01]]]\n"
     ]
    }
   ],
   "source": [
    "data= data.reshape((2,2,-1))\n",
    "print(data.shape)\n",
    "print(data)"
   ]
  },
  {
   "cell_type": "code",
   "execution_count": 67,
   "id": "9a9cad3d",
   "metadata": {},
   "outputs": [
    {
     "name": "stdout",
     "output_type": "stream",
     "text": [
      "[0. 0. 0. 0. 0. 0. 0. 0.]\n",
      "[0. 0. 0. 0. 0. 0. 0. 0. 3. 4.]\n"
     ]
    }
   ],
   "source": [
    "# appending the array\n",
    "zeroes= np.zeros((8))\n",
    "print(zeroes)\n",
    "zeroes= np.append(zeroes,[3,4])\n",
    "print(zeroes)"
   ]
  },
  {
   "cell_type": "code",
   "execution_count": 71,
   "id": "4d783a36",
   "metadata": {},
   "outputs": [
    {
     "name": "stdout",
     "output_type": "stream",
     "text": [
      "[0. 0. 5. 5. 5. 5. 0. 0. 0. 0. 0. 0. 3. 4.]\n"
     ]
    }
   ],
   "source": [
    "# inserting at specific location\n",
    "zeroes= np.insert(zeroes,2,5)\n",
    "print(zeroes)"
   ]
  },
  {
   "cell_type": "code",
   "execution_count": null,
   "id": "f32120b8",
   "metadata": {},
   "outputs": [],
   "source": []
  },
  {
   "cell_type": "markdown",
   "id": "aa804d22",
   "metadata": {},
   "source": [
    "### Delete"
   ]
  },
  {
   "cell_type": "code",
   "execution_count": 72,
   "id": "443e6910",
   "metadata": {},
   "outputs": [
    {
     "data": {
      "text/plain": [
       "array([[[3.93821029e-03, 8.46150664e-02, 3.25213200e-01, 7.00000000e+02,\n",
       "         4.55720083e-02, 2.16697463e-01],\n",
       "        [2.87349860e-01, 8.79970692e-01, 4.54083887e-01, 5.88981949e-01,\n",
       "         5.96799888e-01, 7.57041477e-01]],\n",
       "\n",
       "       [[5.65828434e-01, 6.27763998e-01, 6.61566247e-01, 8.05503994e-01,\n",
       "         2.40286494e-01, 3.24537535e-01],\n",
       "        [7.67192218e-01, 8.24993849e-01, 3.55823274e-03, 1.53286935e-01,\n",
       "         2.28348809e-01, 6.70838369e-01]]])"
      ]
     },
     "execution_count": 72,
     "metadata": {},
     "output_type": "execute_result"
    }
   ],
   "source": [
    "data"
   ]
  },
  {
   "cell_type": "code",
   "execution_count": 76,
   "id": "03eba96f",
   "metadata": {},
   "outputs": [],
   "source": [
    "# deleting the row\n",
    "data=np.delete(data,0,axis=1)"
   ]
  },
  {
   "cell_type": "code",
   "execution_count": 77,
   "id": "d87930c2",
   "metadata": {},
   "outputs": [],
   "source": [
    "# saving the array \n",
    "np.save(\"new_array\",data)"
   ]
  },
  {
   "cell_type": "code",
   "execution_count": 78,
   "id": "912c8fcd",
   "metadata": {},
   "outputs": [
    {
     "data": {
      "text/plain": [
       "array([[[0.28734986, 0.87997069, 0.45408389, 0.58898195, 0.59679989,\n",
       "         0.75704148]],\n",
       "\n",
       "       [[0.76719222, 0.82499385, 0.00355823, 0.15328693, 0.22834881,\n",
       "         0.67083837]]])"
      ]
     },
     "execution_count": 78,
     "metadata": {},
     "output_type": "execute_result"
    }
   ],
   "source": [
    "# loading the saved array'\n",
    "test= np.load(\"new_array.npy\")\n",
    "test"
   ]
  },
  {
   "cell_type": "code",
   "execution_count": null,
   "id": "1b79994f",
   "metadata": {},
   "outputs": [],
   "source": []
  }
 ],
 "metadata": {
  "kernelspec": {
   "display_name": "Python 3 (ipykernel)",
   "language": "python",
   "name": "python3"
  },
  "language_info": {
   "codemirror_mode": {
    "name": "ipython",
    "version": 3
   },
   "file_extension": ".py",
   "mimetype": "text/x-python",
   "name": "python",
   "nbconvert_exporter": "python",
   "pygments_lexer": "ipython3",
   "version": "3.11.0"
  }
 },
 "nbformat": 4,
 "nbformat_minor": 5
}
